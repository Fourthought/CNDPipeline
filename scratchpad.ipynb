{
 "cells": [
  {
   "cell_type": "code",
   "execution_count": 1,
   "metadata": {},
   "outputs": [
    {
     "name": "stdout",
     "output_type": "stream",
     "text": [
      "['tagger', 'parser', 'ner', 'Named Entity Matcher', 'merge_entities', 'Concept Matcher', 'group id']\n",
      "Wall time: 44.1 s\n"
     ]
    }
   ],
   "source": [
    "%%time\n",
    "import importlib\n",
    "import pipeline\n",
    "importlib.reload(pipeline)\n",
    "\n",
    "cnd = pipeline.CND()\n",
    "\n",
    "print([name for name in cnd.nlp.pipe_names])"
   ]
  },
  {
   "cell_type": "code",
   "execution_count": null,
   "metadata": {},
   "outputs": [],
   "source": [
    "%%time\n",
    "import os\n",
    "import importlib\n",
    "import cndobjects\n",
    "importlib.reload(cndobjects)\n",
    "\n",
    "\n",
    "dirpath = r'C:\\\\Users\\\\Steve\\\\OneDrive - University of Southampton\\\\CNDPipeline\\\\dataset'\n",
    "\n",
    "orators = cndobjects.Dataset(cnd, dirpath)\n",
    "\n",
    "text = \"On my orders, the United States military has begun strikes against Al Qaeda terrorist training camps and military installations of the Taliban regime in Afghanistan.\"\n",
    "doc = cnd(text)\n",
    "\n",
    "# display(orators.summarise())\n",
    "# display(orators[\"laden\"].summarise())\n",
    "# display(orators.text_summarise())"
   ]
  },
  {
   "cell_type": "code",
   "execution_count": null,
   "metadata": {},
   "outputs": [],
   "source": [
    "# import pandas as pd\n",
    "import visuals\n",
    "importlib.reload(visuals)\n",
    "\n",
    "# text = \"On my orders, the United States military has begun strikes against Al Qaeda terrorist training camps and military installations of the Taliban regime in Afghanistan.\"\n",
    "# doc = cnd(text)\n",
    "\n",
    "# # doc = orators[\"bush\"][4].doc\n",
    "\n",
    "# print([t for t in doc if t._.outgroup])\n",
    "# print(doc._.outgroup_entities)\n",
    "# print(doc._.ingroup_entities)\n",
    "\n",
    "# df = []\n",
    "# df.append(list(doc._.custom_chunks))\n",
    "# df.append([chunk._.CONCEPT for chunk in doc._.custom_chunks])\n",
    "# df.append([chunk._.ATTRIBUTE for chunk in doc._.custom_chunks])\n",
    "# df.append([chunk._.IDEOLOGY for chunk in doc._.custom_chunks])\n",
    "\n",
    "# display(pd.DataFrame(df))\n",
    "\n",
    "visuals.heatmap(orators[\"bush\"].ideologies)"
   ]
  },
  {
   "cell_type": "code",
   "execution_count": null,
   "metadata": {},
   "outputs": [],
   "source": [
    "import importlib\n",
    "import hpspacy\n",
    "importlib.reload(hpspacy)\n",
    "\n",
    "h = hpspacy.hearst_patterns(cnd.nlp)\n",
    "\n",
    "for doc in orators[\"king\"]:\n",
    "    print(h.find_hyponyms(doc.doc))\n",
    "    \n",
    "    \n",
    "# h.find_hyponyms(orators[\"bush\"][4].doc)"
   ]
  },
  {
   "cell_type": "code",
   "execution_count": null,
   "metadata": {},
   "outputs": [],
   "source": [
    "print(hyps)\n",
    "print(hyps[0][0].ent_type_)"
   ]
  },
  {
   "cell_type": "code",
   "execution_count": 6,
   "metadata": {},
   "outputs": [
    {
     "name": "stdout",
     "output_type": "stream",
     "text": [
      "writing to path: C:\\Users\\Steve\\OneDrive - University of Southampton\\CNDPipeline\\Obj 1 - detect ingroup and outgroup of a text\n",
      "from laden_ingroup_sents.json, wrote 41 records to laden_ingroup_sents.jsonl\n",
      "\n",
      "writing to path: C:\\Users\\Steve\\OneDrive - University of Southampton\\CNDPipeline\\Obj 1 - detect ingroup and outgroup of a text\n",
      "from laden_outgroup_sents.json, wrote 113 records to laden_outgroup_sents.jsonl\n",
      "\n"
     ]
    }
   ],
   "source": [
    "from cndutils import dict_to_jsonl\n",
    "import os\n",
    "\n",
    "path = 'C:\\\\Users\\\\Steve\\\\OneDrive - University of Southampton\\\\CNDPipeline\\\\dataset'\n",
    "files = [file for file in os.listdir(path) if \"json\" in file]\n",
    "\n",
    "for file in files:\n",
    "    dict_to_jsonl(path, file)\n"
   ]
  },
  {
   "cell_type": "code",
   "execution_count": 13,
   "metadata": {},
   "outputs": [
    {
     "data": {
      "text/html": [
       "<div>\n",
       "<style scoped>\n",
       "    .dataframe tbody tr th:only-of-type {\n",
       "        vertical-align: middle;\n",
       "    }\n",
       "\n",
       "    .dataframe tbody tr th {\n",
       "        vertical-align: top;\n",
       "    }\n",
       "\n",
       "    .dataframe thead th {\n",
       "        text-align: right;\n",
       "    }\n",
       "</style>\n",
       "<table border=\"1\" class=\"dataframe\">\n",
       "  <thead>\n",
       "    <tr style=\"text-align: right;\">\n",
       "      <th></th>\n",
       "      <th>text</th>\n",
       "      <th>root</th>\n",
       "      <th>idx</th>\n",
       "      <th>concept</th>\n",
       "      <th>attribute</th>\n",
       "      <th>ideology</th>\n",
       "      <th>text</th>\n",
       "      <th>root</th>\n",
       "      <th>idx</th>\n",
       "      <th>concept</th>\n",
       "      <th>attribute</th>\n",
       "      <th>ideology</th>\n",
       "      <th>notes</th>\n",
       "    </tr>\n",
       "  </thead>\n",
       "  <tbody>\n",
       "    <tr>\n",
       "      <th>0</th>\n",
       "      <td>this trial</td>\n",
       "      <td>trial</td>\n",
       "      <td>2</td>\n",
       "      <td></td>\n",
       "      <td></td>\n",
       "      <td></td>\n",
       "      <td>trial</td>\n",
       "      <td>trial</td>\n",
       "      <td>2</td>\n",
       "      <td>LEGALENTITY</td>\n",
       "      <td>entity</td>\n",
       "      <td>legal</td>\n",
       "      <td>remove det</td>\n",
       "    </tr>\n",
       "    <tr>\n",
       "      <th>1</th>\n",
       "      <td>we</td>\n",
       "      <td>we</td>\n",
       "      <td>4</td>\n",
       "      <td></td>\n",
       "      <td></td>\n",
       "      <td></td>\n",
       "      <td>we</td>\n",
       "      <td>we</td>\n",
       "      <td>4</td>\n",
       "      <td>SELF</td>\n",
       "      <td>ingroup</td>\n",
       "      <td>social</td>\n",
       "      <td></td>\n",
       "    </tr>\n",
       "    <tr>\n",
       "      <th>2</th>\n",
       "      <td>the world</td>\n",
       "      <td>world</td>\n",
       "      <td>10</td>\n",
       "      <td></td>\n",
       "      <td></td>\n",
       "      <td></td>\n",
       "      <td>world</td>\n",
       "      <td>world</td>\n",
       "      <td>10</td>\n",
       "      <td>PLACE</td>\n",
       "      <td>entity</td>\n",
       "      <td>social</td>\n",
       "      <td>remove det</td>\n",
       "    </tr>\n",
       "    <tr>\n",
       "      <th>3</th>\n",
       "      <td>our fellow americans</td>\n",
       "      <td>americans</td>\n",
       "      <td>16</td>\n",
       "      <td></td>\n",
       "      <td></td>\n",
       "      <td></td>\n",
       "      <td>fellow americans</td>\n",
       "      <td>americans</td>\n",
       "      <td>16</td>\n",
       "      <td></td>\n",
       "      <td></td>\n",
       "      <td></td>\n",
       "      <td>remove det. create new named entity. fellow = ...</td>\n",
       "    </tr>\n",
       "  </tbody>\n",
       "</table>\n",
       "</div>"
      ],
      "text/plain": [
       "                   text       root idx concept attribute ideology  \\\n",
       "0            this trial      trial   2                              \n",
       "1                    we         we   4                              \n",
       "2             the world      world  10                              \n",
       "3  our fellow americans  americans  16                              \n",
       "\n",
       "               text       root idx      concept attribute ideology  \\\n",
       "0             trial      trial   2  LEGALENTITY    entity    legal   \n",
       "1                we         we   4         SELF   ingroup   social   \n",
       "2             world      world  10        PLACE    entity   social   \n",
       "3  fellow americans  americans  16                                   \n",
       "\n",
       "                                               notes  \n",
       "0                                         remove det  \n",
       "1                                                     \n",
       "2                                         remove det  \n",
       "3  remove det. create new named entity. fellow = ...  "
      ]
     },
     "metadata": {},
     "output_type": "display_data"
    }
   ],
   "source": [
    "import jsonlines\n",
    "import os\n",
    "import pandas as pd\n",
    "\n",
    "path = 'C:\\\\Users\\\\Steve\\\\OneDrive - University of Southampton\\\\CNDPipeline\\\\dataset'\n",
    "\n",
    "with jsonlines.open(os.path.join(path, \"cust_chunks2.jsonl\")) as f:\n",
    "    chunks = list(f.iter())\n",
    "    \n",
    "n = 0\n",
    "df1 = pd.DataFrame(chunks[n][\"orig_chunks\"])\n",
    "df2 = pd.DataFrame(chunks[n][\"new_chunks\"])\n",
    "    \n",
    "display(pd.concat([df1, df2]).T)\n",
    "    "
   ]
  }
 ],
 "metadata": {
  "kernelspec": {
   "display_name": "Python 3",
   "language": "python",
   "name": "python3"
  },
  "language_info": {
   "codemirror_mode": {
    "name": "ipython",
    "version": 3
   },
   "file_extension": ".py",
   "mimetype": "text/x-python",
   "name": "python",
   "nbconvert_exporter": "python",
   "pygments_lexer": "ipython3",
   "version": "3.7.6"
  }
 },
 "nbformat": 4,
 "nbformat_minor": 4
}
