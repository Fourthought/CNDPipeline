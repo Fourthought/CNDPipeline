{
 "cells": [
  {
   "cell_type": "code",
   "execution_count": 1,
   "metadata": {},
   "outputs": [
    {
     "name": "stdout",
     "output_type": "stream",
     "text": [
      "['tagger', 'parser', 'ner', 'Named Entity Matcher', 'merge_entities', 'Concept Matcher', 'group id']\n",
      "Wall time: 44.1 s\n"
     ]
    }
   ],
   "source": [
    "%%time\n",
    "import importlib\n",
    "import pipeline\n",
    "importlib.reload(pipeline)\n",
    "\n",
    "cnd = pipeline.CND()\n",
    "\n",
    "print([name for name in cnd.nlp.pipe_names])"
   ]
  },
  {
   "cell_type": "code",
   "execution_count": null,
   "metadata": {},
   "outputs": [],
   "source": [
    "%%time\n",
    "import os\n",
    "import importlib\n",
    "import cndobjects\n",
    "importlib.reload(cndobjects)\n",
    "\n",
    "\n",
    "dirpath = r'C:\\\\Users\\\\Steve\\\\OneDrive - University of Southampton\\\\CNDPipeline\\\\dataset'\n",
    "\n",
    "orators = cndobjects.Dataset(cnd, dirpath)\n",
    "\n",
    "text = \"On my orders, the United States military has begun strikes against Al Qaeda terrorist training camps and military installations of the Taliban regime in Afghanistan.\"\n",
    "doc = cnd(text)\n",
    "\n",
    "# display(orators.summarise())\n",
    "# display(orators[\"laden\"].summarise())\n",
    "# display(orators.text_summarise())"
   ]
  },
  {
   "cell_type": "code",
   "execution_count": null,
   "metadata": {},
   "outputs": [],
   "source": [
    "# import pandas as pd\n",
    "import visuals\n",
    "importlib.reload(visuals)\n",
    "\n",
    "# text = \"On my orders, the United States military has begun strikes against Al Qaeda terrorist training camps and military installations of the Taliban regime in Afghanistan.\"\n",
    "# doc = cnd(text)\n",
    "\n",
    "# # doc = orators[\"bush\"][4].doc\n",
    "\n",
    "# print([t for t in doc if t._.outgroup])\n",
    "# print(doc._.outgroup_entities)\n",
    "# print(doc._.ingroup_entities)\n",
    "\n",
    "# df = []\n",
    "# df.append(list(doc._.custom_chunks))\n",
    "# df.append([chunk._.CONCEPT for chunk in doc._.custom_chunks])\n",
    "# df.append([chunk._.ATTRIBUTE for chunk in doc._.custom_chunks])\n",
    "# df.append([chunk._.IDEOLOGY for chunk in doc._.custom_chunks])\n",
    "\n",
    "# display(pd.DataFrame(df))\n",
    "\n",
    "visuals.heatmap(orators[\"bush\"].ideologies)"
   ]
  },
  {
   "cell_type": "code",
   "execution_count": null,
   "metadata": {},
   "outputs": [],
   "source": [
    "import importlib\n",
    "import hpspacy\n",
    "importlib.reload(hpspacy)\n",
    "\n",
    "h = hpspacy.hearst_patterns(cnd.nlp)\n",
    "\n",
    "for doc in orators[\"king\"]:\n",
    "    print(h.find_hyponyms(doc.doc))\n",
    "    \n",
    "    \n",
    "# h.find_hyponyms(orators[\"bush\"][4].doc)"
   ]
  },
  {
   "cell_type": "code",
   "execution_count": null,
   "metadata": {},
   "outputs": [],
   "source": [
    "print(hyps)\n",
    "print(hyps[0][0].ent_type_)"
   ]
  }
 ],
 "metadata": {
  "kernelspec": {
   "display_name": "Python 3",
   "language": "python",
   "name": "python3"
  },
  "language_info": {
   "codemirror_mode": {
    "name": "ipython",
    "version": 3
   },
   "file_extension": ".py",
   "mimetype": "text/x-python",
   "name": "python",
   "nbconvert_exporter": "python",
   "pygments_lexer": "ipython3",
   "version": "3.7.6"
  }
 },
 "nbformat": 4,
 "nbformat_minor": 4
}
