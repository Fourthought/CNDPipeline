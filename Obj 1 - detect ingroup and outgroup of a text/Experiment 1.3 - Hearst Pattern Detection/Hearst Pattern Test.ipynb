{
 "cells": [
  {
   "cell_type": "code",
   "execution_count": 1,
   "metadata": {},
   "outputs": [
    {
     "name": "stdout",
     "output_type": "stream",
     "text": [
      "Wall time: 35.9 s\n"
     ]
    }
   ],
   "source": [
    "%%time\n",
    "\n",
    "import spacy\n",
    "\n",
    "nlp = spacy.load(\"en_core_web_md\")\n",
    "\n",
    "for component in nlp.pipe_names:\n",
    "    if component not in ['tagger', \"parser\", \"ner\"]:\n",
    "        nlp.remove_pipe(component)\n",
    "\n",
    "merge_ents = nlp.create_pipe(\"merge_entities\")\n",
    "nlp.add_pipe(merge_ents)"
   ]
  },
  {
   "cell_type": "code",
   "execution_count": 2,
   "metadata": {},
   "outputs": [
    {
     "name": "stderr",
     "output_type": "stream",
     "text": [
      "E\n",
      "======================================================================\n",
      "ERROR: test_hyponym_finder (__main__.TestHearstPatterns)\n",
      "----------------------------------------------------------------------\n",
      "Traceback (most recent call last):\n",
      "  File \"<ipython-input-2-6fbff24ca38e>\", line 16, in test_hyponym_finder\n",
      "    self.assertEqual(hyps2[0], (\"herrick\", \"author\"))\n",
      "IndexError: list index out of range\n",
      "\n",
      "----------------------------------------------------------------------\n",
      "Ran 1 test in 1.052s\n",
      "\n",
      "FAILED (errors=1)\n"
     ]
    }
   ],
   "source": [
    "import unittest\n",
    "import pipeline\n",
    "\n",
    "class TestHearstPatterns(unittest.TestCase):\n",
    "\n",
    "\tdef test_hyponym_finder(self):\n",
    "\t\th = pipeline.hearst_patterns(nlp, predicatematch = \"bronze\")\n",
    "\t\thyps1 =  h.find_hyponyms(\"Forty-four percent of patients with uveitis had one or more identifiable signs or symptoms, such as red eye, ocular pain, visual acuity, or photophobia, in order of decreasing frequency.\")\n",
    "\n",
    "\t\tself.assertEqual(hyps1[0], (\"red eye\", \"symptom\"))\n",
    "\t\tself.assertEqual(hyps1[1], (\"ocular pain\", \"symptom\"))\n",
    "\t\tself.assertEqual(hyps1[2], (\"visual acuity\", \"symptom\"))\n",
    "\t\tself.assertEqual(hyps1[3], (\"photophobia\", \"symptom\"))\n",
    "\n",
    "\t\thyps2 = h.find_hyponyms(\"There are works by such authors as Herrick, Goldsmith, and Shakespeare.\")\n",
    "\t\tself.assertEqual(hyps2[0], (\"herrick\", \"author\"))\n",
    "\t\tself.assertEqual(hyps2[1], (\"goldsmith\", \"author\"))\n",
    "\t\tself.assertEqual(hyps2[2], (\"shakespeare\", \"author\"))\n",
    "\t\n",
    "\t\thyps3 = h.find_hyponyms(\"There were bruises, lacerations, or other injuries were not prevalent.\")\n",
    "\t\tself.assertEqual(hyps3[0], (\"bruise\", \"injury\"))\n",
    "\t\tself.assertEqual(hyps3[1], (\"laceration\", \"injury\"))\n",
    "\n",
    "\t\thyps4 =  h.find_hyponyms(\"common law countries, including Canada, Australia, and England enjoy toast.\")\n",
    "\t\tself.assertEqual(hyps4[0], (\"canada\", \"common law country\"))\n",
    "\t\tself.assertEqual(hyps4[1], (\"australia\", \"common law country\"))\n",
    "\t\tself.assertEqual(hyps4[2], (\"england\", \"common law country\"))\n",
    "\n",
    "\t\thyps5 = h.find_hyponyms(\"Many countries, especially France, England and Spain also enjoy toast.\")\n",
    "\t\tself.assertEqual(hyps5[0], (\"france\", \"country\"))\n",
    "\t\tself.assertEqual(hyps5[1], (\"england\", \"country\"))\n",
    "\t\tself.assertEqual(hyps5[2], (\"spain\", \"country\"))\n",
    "\n",
    "\t\thyps6 = h.find_hyponyms(\"There are such benefits as postharvest losses reduction, food increase and soil fertility improvement.\")\n",
    "\t\tself.assertEqual(hyps6[0], (\"postharvest loss reduction\", \"benefit\"))\n",
    "\t\tself.assertEqual(hyps6[1], (\"food increase\", \"benefit\"))\n",
    "\t\tself.assertEqual(hyps6[2], (\"soil fertility improvement\", \"benefit\"))\n",
    "\n",
    "if __name__ == '__main__':\n",
    "    unittest.main(argv=['first-arg-is-ignored'], exit=False)"
   ]
  }
 ],
 "metadata": {
  "kernelspec": {
   "display_name": "Python 3",
   "language": "python",
   "name": "python3"
  },
  "language_info": {
   "codemirror_mode": {
    "name": "ipython",
    "version": 3
   },
   "file_extension": ".py",
   "mimetype": "text/x-python",
   "name": "python",
   "nbconvert_exporter": "python",
   "pygments_lexer": "ipython3",
   "version": "3.7.6"
  }
 },
 "nbformat": 4,
 "nbformat_minor": 4
}
